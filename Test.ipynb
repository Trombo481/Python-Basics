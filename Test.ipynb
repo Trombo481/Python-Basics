{
  "nbformat": 4,
  "nbformat_minor": 0,
  "metadata": {
    "colab": {
      "provenance": [],
      "authorship_tag": "ABX9TyPkhxyXYvJpXeQk9GgP6JFc",
      "include_colab_link": true
    },
    "kernelspec": {
      "name": "python3",
      "display_name": "Python 3"
    },
    "language_info": {
      "name": "python"
    }
  },
  "cells": [
    {
      "cell_type": "markdown",
      "metadata": {
        "id": "view-in-github",
        "colab_type": "text"
      },
      "source": [
        "<a href=\"https://colab.research.google.com/github/Jbediah/Python-Basics/blob/main/Test.ipynb\" target=\"_parent\"><img src=\"https://colab.research.google.com/assets/colab-badge.svg\" alt=\"Open In Colab\"/></a>"
      ]
    },
    {
      "cell_type": "markdown",
      "source": [
        "#Various Functions of libraries\n",
        "\n",
        "---\n",
        "\n",
        ">strings\n",
        "---"
      ],
      "metadata": {
        "id": "xhy0CtURBR7o"
      }
    },
    {
      "cell_type": "code",
      "execution_count": null,
      "metadata": {
        "id": "NwhDchdI-i2N"
      },
      "outputs": [],
      "source": [
        "#Strings\n",
        "String=\"A Test String\""
      ]
    },
    {
      "cell_type": "code",
      "source": [
        "#boolean String Functions\n",
        "print(String.isalnum())\n",
        "print(String.isalpha())\n",
        "print(String.istitle())\n",
        "#Other String Functions\n",
        "print(String.capitalize())\n",
        "print(String.rstrip())"
      ],
      "metadata": {
        "colab": {
          "base_uri": "https://localhost:8080/"
        },
        "id": "sykEJy6nBONs",
        "outputId": "3c336001-7238-4f8d-d61f-f0cffda379a5"
      },
      "execution_count": null,
      "outputs": [
        {
          "output_type": "stream",
          "name": "stdout",
          "text": [
            "False\n",
            "False\n",
            "True\n",
            "A test string\n",
            "A Test String\n"
          ]
        }
      ]
    },
    {
      "cell_type": "markdown",
      "source": [
        "\n",
        "---\n",
        ">Lists\n",
        "---\n",
        "\n"
      ],
      "metadata": {
        "id": "ZPwqz8bXFF76"
      }
    },
    {
      "cell_type": "code",
      "source": [
        "List=[1,2,3,4,5]"
      ],
      "metadata": {
        "id": "8B0oqI17DYEJ"
      },
      "execution_count": null,
      "outputs": []
    },
    {
      "cell_type": "code",
      "source": [
        "#List Functions\n",
        "List.append(6)  #add at the end\n",
        "print(List)\n",
        "List.insert(0,0)  #insert at some specified index\n",
        "print(List)\n",
        "List.extend([7,8,9])  #adding multiple elements at once\n",
        "print(List)"
      ],
      "metadata": {
        "colab": {
          "base_uri": "https://localhost:8080/"
        },
        "id": "V9x0CwBSFFbl",
        "outputId": "594290a8-4541-49b9-bc41-660f1f0daf83"
      },
      "execution_count": null,
      "outputs": [
        {
          "output_type": "stream",
          "name": "stdout",
          "text": [
            "[1, 2, 3, 4, 5, 6]\n",
            "[0, 1, 2, 3, 4, 5, 6]\n",
            "[0, 1, 2, 3, 4, 5, 6, 7, 8, 9]\n"
          ]
        }
      ]
    },
    {
      "cell_type": "code",
      "source": [
        "#List Operations\n",
        "print(sum(List))\n",
        "List.pop()\n",
        "print(List)\n",
        "List.pop(0)   #pop element of 0th index\n",
        "print(List)\n",
        "List.count(1)\n",
        "List*2 #This means list will be contatenated with itself"
      ],
      "metadata": {
        "colab": {
          "base_uri": "https://localhost:8080/"
        },
        "id": "BNDgwmkLGCnj",
        "outputId": "b4cf07f5-0480-476b-f797-a93e1c90f940"
      },
      "execution_count": null,
      "outputs": [
        {
          "output_type": "stream",
          "name": "stdout",
          "text": [
            "45\n",
            "[0, 1, 2, 3, 4, 5, 6, 7, 8]\n",
            "[1, 2, 3, 4, 5, 6, 7, 8]\n"
          ]
        },
        {
          "output_type": "execute_result",
          "data": {
            "text/plain": [
              "[1, 2, 3, 4, 5, 6, 7, 8, 1, 2, 3, 4, 5, 6, 7, 8]"
            ]
          },
          "metadata": {},
          "execution_count": 5
        }
      ]
    },
    {
      "cell_type": "markdown",
      "source": [
        "#Sets"
      ],
      "metadata": {
        "id": "3o6OaJRPDcI0"
      }
    },
    {
      "cell_type": "code",
      "source": [
        "#Sets use curly bases and are MUTABLE with NO DUPLICATES\n",
        "SETS={1,2,3,3,4}\n",
        "print(SETS)\n",
        "#print(SETS[1]) this wont work as SETS do not allow it"
      ],
      "metadata": {
        "id": "_QyazyWcICHU",
        "colab": {
          "base_uri": "https://localhost:8080/"
        },
        "outputId": "60d16026-a24f-4189-bacc-d482fb68cc14"
      },
      "execution_count": 4,
      "outputs": [
        {
          "output_type": "stream",
          "name": "stdout",
          "text": [
            "{1, 2, 3, 4}\n"
          ]
        }
      ]
    },
    {
      "cell_type": "code",
      "source": [],
      "metadata": {
        "id": "8Q4v0xJ3D0MG"
      },
      "execution_count": null,
      "outputs": []
    }
  ]
}